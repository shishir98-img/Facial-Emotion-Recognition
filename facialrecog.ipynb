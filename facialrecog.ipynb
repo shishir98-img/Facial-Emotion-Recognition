{
 "cells": [
  {
   "cell_type": "code",
   "execution_count": 36,
   "metadata": {},
   "outputs": [
    {
     "name": "stdout",
     "output_type": "stream",
     "text": [
      "Found 981 images belonging to 7 classes.\n",
      "Found 506 images belonging to 7 classes.\n"
     ]
    }
   ],
   "source": [
    "import tensorflow\n",
    "from tensorflow.keras.datasets import mnist\n",
    "import numpy as np\n",
    "import seaborn as sns\n",
    "\n",
    "from tensorflow.keras.preprocessing.image import load_img, img_to_array\n",
    "import matplotlib.pyplot as plt\n",
    "import os\n",
    "from tensorflow.keras.preprocessing.image import ImageDataGenerator\n",
    "\n",
    "pic_size = 48\n",
    "base_path_train = r\"C:\\Users\\Lenovo_1\\Desktop\\Facial recog\\images\\train\"\n",
    "base_path_test = r\"C:\\Users\\Lenovo_1\\Desktop\\Facial recog\\images\\test\"\n",
    "batch_size = 64\n",
    "class_names = {\"angry\",\"contempt\",\"disgust\",\"fear\",\"happy\",\"sadness\",\"surprise\"\n",
    "    \n",
    "}\n",
    "\n",
    "\n",
    "\n",
    "datagen_train = ImageDataGenerator()\n",
    "datagen_validation = ImageDataGenerator()\n",
    "\n",
    "train_generator = datagen_train.flow_from_directory(base_path_train,\n",
    "                                                    target_size=(pic_size,pic_size),\n",
    "                                                    color_mode=\"grayscale\",\n",
    "                                                    batch_size=batch_size,\n",
    "                                                    class_mode='categorical',\n",
    "                                                    shuffle=True)\n",
    "\n",
    "validation_generator = datagen_validation.flow_from_directory(base_path_test,\n",
    "                                                    target_size=(pic_size,pic_size),\n",
    "                                                    color_mode=\"grayscale\",\n",
    "                                                    batch_size=batch_size,\n",
    "                                                    class_mode='categorical',\n",
    "                                                    shuffle=False)\n",
    "\n",
    "\n"
   ]
  },
  {
   "cell_type": "code",
   "execution_count": 46,
   "metadata": {},
   "outputs": [
    {
     "name": "stdout",
     "output_type": "stream",
     "text": [
      "Epoch 1/20\n",
      "14/15 [===========================>..] - ETA: 0s - loss: 2.2811 - accuracy: 0.2052WARNING:tensorflow:Can save best model only with val_acc available, skipping.\n",
      "15/15 [==============================] - 11s 761ms/step - loss: 2.2605 - accuracy: 0.2094 - val_loss: 2.5257 - val_accuracy: 0.1719\n",
      "Epoch 2/20\n",
      "14/15 [===========================>..] - ETA: 0s - loss: 1.7382 - accuracy: 0.3751WARNING:tensorflow:Can save best model only with val_acc available, skipping.\n",
      "15/15 [==============================] - 11s 703ms/step - loss: 1.7348 - accuracy: 0.3773 - val_loss: 2.1331 - val_accuracy: 0.3371\n",
      "Epoch 3/20\n",
      "14/15 [===========================>..] - ETA: 0s - loss: 1.4463 - accuracy: 0.4994WARNING:tensorflow:Can save best model only with val_acc available, skipping.\n",
      "15/15 [==============================] - 11s 704ms/step - loss: 1.4312 - accuracy: 0.5038 - val_loss: 1.7439 - val_accuracy: 0.3683\n",
      "Epoch 4/20\n",
      "14/15 [===========================>..] - ETA: 0s - loss: 1.2089 - accuracy: 0.5639WARNING:tensorflow:Can save best model only with val_acc available, skipping.\n",
      "15/15 [==============================] - 11s 754ms/step - loss: 1.1963 - accuracy: 0.5692 - val_loss: 1.4989 - val_accuracy: 0.5000\n",
      "Epoch 5/20\n",
      "14/15 [===========================>..] - ETA: 0s - loss: 1.1562 - accuracy: 0.5885WARNING:tensorflow:Can save best model only with val_acc available, skipping.\n",
      "15/15 [==============================] - 11s 732ms/step - loss: 1.1707 - accuracy: 0.5845 - val_loss: 1.3656 - val_accuracy: 0.6071\n",
      "Epoch 6/20\n",
      "14/15 [===========================>..] - ETA: 0s - loss: 0.9855 - accuracy: 0.6585WARNING:tensorflow:Can save best model only with val_acc available, skipping.\n",
      "15/15 [==============================] - 10s 699ms/step - loss: 0.9660 - accuracy: 0.6667 - val_loss: 1.2162 - val_accuracy: 0.6607\n",
      "Epoch 7/20\n",
      "14/15 [===========================>..] - ETA: 0s - loss: 0.9186 - accuracy: 0.7037WARNING:tensorflow:Can save best model only with val_acc available, skipping.\n",
      "15/15 [==============================] - 11s 712ms/step - loss: 0.9100 - accuracy: 0.7082 - val_loss: 1.0597 - val_accuracy: 0.7299\n",
      "Epoch 8/20\n",
      "14/15 [===========================>..] - ETA: 0s - loss: 0.8260 - accuracy: 0.7042WARNING:tensorflow:Can save best model only with val_acc available, skipping.\n",
      "15/15 [==============================] - 12s 770ms/step - loss: 0.8262 - accuracy: 0.7031 - val_loss: 0.9200 - val_accuracy: 0.7879\n",
      "Epoch 9/20\n",
      "14/15 [===========================>..] - ETA: 0s - loss: 0.7385 - accuracy: 0.7538WARNING:tensorflow:Can save best model only with val_acc available, skipping.\n",
      "15/15 [==============================] - 11s 739ms/step - loss: 0.7312 - accuracy: 0.7546 - val_loss: 0.8040 - val_accuracy: 0.8080\n",
      "Epoch 10/20\n",
      "14/15 [===========================>..] - ETA: 0s - loss: 0.6941 - accuracy: 0.7632WARNING:tensorflow:Can save best model only with val_acc available, skipping.\n",
      "15/15 [==============================] - 12s 824ms/step - loss: 0.6973 - accuracy: 0.7601 - val_loss: 0.7041 - val_accuracy: 0.8705\n",
      "Epoch 11/20\n",
      "14/15 [===========================>..] - ETA: 0s - loss: 0.6655 - accuracy: 0.7702WARNING:tensorflow:Can save best model only with val_acc available, skipping.\n",
      "15/15 [==============================] - 12s 790ms/step - loss: 0.6619 - accuracy: 0.7721 - val_loss: 0.6157 - val_accuracy: 0.9174\n",
      "Epoch 12/20\n",
      "14/15 [===========================>..] - ETA: 0s - loss: 0.5975 - accuracy: 0.8019WARNING:tensorflow:Can save best model only with val_acc available, skipping.\n",
      "15/15 [==============================] - 12s 780ms/step - loss: 0.5886 - accuracy: 0.8037 - val_loss: 0.5417 - val_accuracy: 0.9174\n",
      "Epoch 13/20\n",
      "14/15 [===========================>..] - ETA: 0s - loss: 0.6224 - accuracy: 0.8049WARNING:tensorflow:Can save best model only with val_acc available, skipping.\n",
      "15/15 [==============================] - 11s 709ms/step - loss: 0.6180 - accuracy: 0.8043 - val_loss: 0.4726 - val_accuracy: 0.9286\n",
      "Epoch 14/20\n",
      "14/15 [===========================>..] - ETA: 0s - loss: 0.5015 - accuracy: 0.8393WARNING:tensorflow:Can save best model only with val_acc available, skipping.\n",
      "15/15 [==============================] - 11s 741ms/step - loss: 0.5014 - accuracy: 0.8406 - val_loss: 0.4155 - val_accuracy: 0.9420\n",
      "Epoch 15/20\n",
      "14/15 [===========================>..] - ETA: 0s - loss: 0.4806 - accuracy: 0.8464WARNING:tensorflow:Can save best model only with val_acc available, skipping.\n",
      "15/15 [==============================] - 11s 727ms/step - loss: 0.4768 - accuracy: 0.8495 - val_loss: 0.3668 - val_accuracy: 0.9442\n",
      "Epoch 16/20\n",
      "14/15 [===========================>..] - ETA: 0s - loss: 0.4709 - accuracy: 0.8370WARNING:tensorflow:Can save best model only with val_acc available, skipping.\n",
      "15/15 [==============================] - 11s 722ms/step - loss: 0.4657 - accuracy: 0.8408 - val_loss: 0.3314 - val_accuracy: 0.9487\n",
      "Epoch 17/20\n",
      "14/15 [===========================>..] - ETA: 0s - loss: 0.4199 - accuracy: 0.8734WARNING:tensorflow:Can save best model only with val_acc available, skipping.\n",
      "15/15 [==============================] - 12s 788ms/step - loss: 0.4130 - accuracy: 0.8779 - val_loss: 0.3064 - val_accuracy: 0.9576\n",
      "Epoch 18/20\n",
      "14/15 [===========================>..] - ETA: 0s - loss: 0.3936 - accuracy: 0.8781WARNING:tensorflow:Can save best model only with val_acc available, skipping.\n",
      "15/15 [==============================] - 13s 845ms/step - loss: 0.3871 - accuracy: 0.8811 - val_loss: 0.2923 - val_accuracy: 0.9487\n",
      "Epoch 19/20\n",
      "14/15 [===========================>..] - ETA: 0s - loss: 0.3644 - accuracy: 0.8945WARNING:tensorflow:Can save best model only with val_acc available, skipping.\n",
      "15/15 [==============================] - 12s 808ms/step - loss: 0.3658 - accuracy: 0.8942 - val_loss: 0.2702 - val_accuracy: 0.9487\n",
      "Epoch 20/20\n",
      "14/15 [===========================>..] - ETA: 0s - loss: 0.3489 - accuracy: 0.8968WARNING:tensorflow:Can save best model only with val_acc available, skipping.\n",
      "15/15 [==============================] - 11s 725ms/step - loss: 0.3463 - accuracy: 0.8986 - val_loss: 0.2466 - val_accuracy: 0.9554\n"
     ]
    }
   ],
   "source": [
    "from tensorflow.keras.layers import Dense, Input, Dropout, GlobalAveragePooling2D, Flatten, Conv2D, BatchNormalization, Activation, MaxPooling2D\n",
    "from tensorflow.keras.models import Model, Sequential\n",
    "from tensorflow.keras.optimizers import Adam\n",
    "\n",
    "nb_classes = 7\n",
    "model = Sequential()\n",
    "model.add(Conv2D(64,(2,2), padding='same', input_shape=(48, 48,1)))\n",
    "model.add(BatchNormalization())\n",
    "model.add(Activation('relu'))\n",
    "model.add(MaxPooling2D(pool_size=(2, 2)))\n",
    "\n",
    "# 2nd Convolution layer\n",
    "model.add(Conv2D(64,(2,2), padding='same'))\n",
    "model.add(BatchNormalization())\n",
    "model.add(Activation('relu'))\n",
    "model.add(MaxPooling2D(pool_size=(2, 2)))\n",
    "model.add(Dropout(0.25))\n",
    "#3rd Layer\n",
    "\n",
    "model.add(Conv2D(64,(2,2), padding='same', input_shape=(48, 48,1)))\n",
    "model.add(BatchNormalization())\n",
    "model.add(Activation('relu'))\n",
    "model.add(MaxPooling2D(pool_size=(2, 2)))\n",
    "\n",
    "# Flattening\n",
    "model.add(Flatten())\n",
    "\n",
    "# Fully connected layer 1st layer\n",
    "model.add(Dense(256))\n",
    "model.add(BatchNormalization())\n",
    "model.add(Activation('relu'))\n",
    "model.add(Dropout(0.25))\n",
    "\n",
    "# Fully connected layer 2nd layer\n",
    "model.add(Dense(512))\n",
    "model.add(BatchNormalization())\n",
    "model.add(Activation('relu'))\n",
    "model.add(Dropout(0.25))\n",
    "\n",
    "model.add(Dense(nb_classes, activation='softmax'))\n",
    "\n",
    "opt = Adam(lr=0.0001)\n",
    "model.compile(optimizer=opt, loss='categorical_crossentropy', metrics=['accuracy'])\n",
    "\n",
    "epochs = 20\n",
    "from tensorflow.keras.callbacks import ModelCheckpoint\n",
    "\n",
    "checkpoint = ModelCheckpoint(\"model_weights.h5\", monitor='val_acc', verbose=1, save_best_only=True, mode='max')\n",
    "callbacks_list = [checkpoint]\n",
    "\n",
    "history = model.fit_generator(generator=train_generator,\n",
    "                                steps_per_epoch=train_generator.n//train_generator.batch_size,\n",
    "                                epochs=epochs,\n",
    "                                validation_data = validation_generator,\n",
    "                                validation_steps = validation_generator.n//validation_generator.batch_size,\n",
    "                                callbacks=callbacks_list\n",
    "                                )"
   ]
  },
  {
   "cell_type": "code",
   "execution_count": 65,
   "metadata": {},
   "outputs": [],
   "source": [
    "predictions = model.predict_generator(generator=validation_generator)\n",
    "y_pred = [np.argmax(probas) for probas in predictions]\n",
    "y_test = validation_generator.classes\n"
   ]
  },
  {
   "cell_type": "code",
   "execution_count": 52,
   "metadata": {},
   "outputs": [
    {
     "data": {
      "text/plain": [
       "<Figure size 432x288 with 0 Axes>"
      ]
     },
     "metadata": {},
     "output_type": "display_data"
    },
    {
     "data": {
      "image/png": "[encoded data removed]",
      "text/plain": [
       "<Figure size 720x720 with 2 Axes>"
      ]
     },
     "metadata": {
      "needs_background": "light"
     },
     "output_type": "display_data"
    }
   ],
   "source": [
    "from sklearn.metrics import confusion_matrix\n",
    "import itertools\n",
    "\n",
    "class_names = {\"angry\",\"contempt\",\"disgust\",\"fear\",\"happy\",\"sadness\",\"surprise\"\n",
    "    \n",
    "}\n",
    "\n",
    "def plot_confusion_matrix(cm, classes, title='Confusion matrix', cmap=plt.cm.Blues):\n",
    "    cm = cm.astype('float') / cm.sum(axis=1)[:, np.newaxis]\n",
    "    plt.figure(figsize=(10,10))\n",
    "    plt.imshow(cm, interpolation='nearest', cmap=cmap)\n",
    "    plt.title(title)\n",
    "    plt.colorbar()\n",
    "    tick_marks = np.arange(len(classes))\n",
    "    plt.xticks(tick_marks, classes, rotation=45)\n",
    "    plt.yticks(tick_marks, classes)\n",
    "\n",
    "    fmt = '.2f'\n",
    "    thresh = cm.max() / 2.\n",
    "    for i, j in itertools.product(range(cm.shape[0]), range(cm.shape[1])):\n",
    "        plt.text(j, i, format(cm[i, j], fmt),\n",
    "                 horizontalalignment=\"center\",\n",
    "                 color=\"white\" if cm[i, j] > thresh else \"black\")\n",
    "\n",
    "    plt.ylabel('True label')\n",
    "    plt.xlabel('Predicted label')\n",
    "    plt.tight_layout()\n",
    "    \n",
    "# compute confusion matrix\n",
    "cnf_matrix = confusion_matrix(y_test, y_pred)\n",
    "np.set_printoptions(precision=2)\n",
    "\n",
    "# plot normalized confusion matrix\n",
    "plt.figure()\n",
    "plot_confusion_matrix(cnf_matrix, classes = class_names, title='Normalized confusion matrix')\n",
    "plt.show()"
   ]
  },
  {
   "cell_type": "code",
   "execution_count": 76,
   "metadata": {},
   "outputs": [],
   "source": [
    "model_json = model.to_json()\n",
    "with open(\"model.json\", \"w\") as json_file:\n",
    "    json_file.write(model_json)"
   ]
  },
  {
   "cell_type": "code",
   "execution_count": 75,
   "metadata": {},
   "outputs": [
    {
     "ename": "ModuleNotFoundError",
     "evalue": "No module named 'model_json'",
     "output_type": "error",
     "traceback": [
      "\u001b[1;31m---------------------------------------------------------------------------\u001b[0m",
      "\u001b[1;31mModuleNotFoundError\u001b[0m                       Traceback (most recent call last)",
      "\u001b[1;32m<ipython-input-75-1372965e5b1d>\u001b[0m in \u001b[0;36m<module>\u001b[1;34m\u001b[0m\n\u001b[0;32m      1\u001b[0m \u001b[1;32mimport\u001b[0m \u001b[0mcv2\u001b[0m\u001b[1;33m\u001b[0m\u001b[1;33m\u001b[0m\u001b[0m\n\u001b[1;32m----> 2\u001b[1;33m \u001b[1;32mfrom\u001b[0m \u001b[0mmodel_json\u001b[0m \u001b[1;32mimport\u001b[0m \u001b[0mFacialExpressionModel\u001b[0m\u001b[1;33m\u001b[0m\u001b[1;33m\u001b[0m\u001b[0m\n\u001b[0m\u001b[0;32m      3\u001b[0m \u001b[1;32mimport\u001b[0m \u001b[0mnumpy\u001b[0m \u001b[1;32mas\u001b[0m \u001b[0mnp\u001b[0m\u001b[1;33m\u001b[0m\u001b[1;33m\u001b[0m\u001b[0m\n\u001b[0;32m      4\u001b[0m \u001b[1;33m\u001b[0m\u001b[0m\n\u001b[0;32m      5\u001b[0m \u001b[0mfacec\u001b[0m \u001b[1;33m=\u001b[0m \u001b[0mcv2\u001b[0m\u001b[1;33m.\u001b[0m\u001b[0mCascadeClassifier\u001b[0m\u001b[1;33m(\u001b[0m\u001b[1;34m'haarcascade_frontalface_default.xml'\u001b[0m\u001b[1;33m)\u001b[0m\u001b[1;33m\u001b[0m\u001b[1;33m\u001b[0m\u001b[0m\n",
      "\u001b[1;31mModuleNotFoundError\u001b[0m: No module named 'model_json'"
     ]
    }
   ],
   "source": []
  },
  {
   "cell_type": "code",
   "execution_count": null,
   "metadata": {},
   "outputs": [],
   "source": []
  }
 ],
 "metadata": {
  "kernelspec": {
   "display_name": "Python 3",
   "language": "python",
   "name": "python3"
  },
  "language_info": {
   "codemirror_mode": {
    "name": "ipython",
    "version": 3
   },
   "file_extension": ".py",
   "mimetype": "text/x-python",
   "name": "python",
   "nbconvert_exporter": "python",
   "pygments_lexer": "ipython3",
   "version": "3.7.6"
  }
 },
 "nbformat": 4,
 "nbformat_minor": 4
}
